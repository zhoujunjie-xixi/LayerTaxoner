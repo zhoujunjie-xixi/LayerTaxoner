{
 "cells": [
  {
   "cell_type": "code",
   "execution_count": 1,
   "metadata": {},
   "outputs": [
    {
     "name": "stderr",
     "output_type": "stream",
     "text": [
      "Using TensorFlow backend.\n"
     ]
    }
   ],
   "source": [
    "import os, sys\n",
    "# import numpy as np\n",
    "from collections import OrderedDict\n",
    "\n",
    "from tools import *\n",
    "import numpy as np\n",
    "import os\n",
    "import tensorflow as tf\n",
    "import tensorflow_core.python.keras.callbacks\n",
    "import keras\n",
    "\n",
    "from keras.datasets import cifar10\n",
    "from keras.models import Model\n",
    "from keras.layers import Dense, Dropout, Activation, Flatten\n",
    "from keras.layers import GlobalMaxPooling1D, MaxPooling1D, GlobalAveragePooling1D, AveragePooling1D\n",
    "from keras.models import Sequential\n",
    "from keras.layers import Conv2D, MaxPooling2D, Input\n",
    "from keras.layers import Conv1D, MaxPooling1D\n",
    "from keras.initializers import he_normal\n",
    "from keras import optimizers\n",
    "from keras.callbacks import LearningRateScheduler, TensorBoard\n",
    "from keras.layers.normalization import BatchNormalization\n",
    "# from keras.layers.normalization.batch_normalization_v1 import BatchNormalization\n",
    "from keras.utils.data_utils import get_file\n",
    "from keras import backend as K\n",
    "\n",
    "import itertools\n",
    "# import matplotlib.pyplot as plt\n",
    "from matplotlib import pyplot as plt\n",
    "from sklearn.metrics import *\n",
    "\n",
    "os.chdir(sys.path[0])"
   ]
  },
  {
   "cell_type": "code",
   "execution_count": 2,
   "metadata": {},
   "outputs": [],
   "source": [
    "os.environ[\"CUDA_VISIBLE_DEVICES\"] = \"-1\"  # 使用cpu"
   ]
  },
  {
   "cell_type": "code",
   "execution_count": 49,
   "metadata": {},
   "outputs": [],
   "source": [
    "config = {\n",
    "    'gen_name': 'Streptococcus pyogenes',\n",
    "    'p_path': '/root/zjj/dataset/pathogens_v1',\n",
    "    'k_length': 100,\n",
    "    'interval': 1000  # 划分k-mer时，两个相邻的k-mer的距离\n",
    "}\n",
    "from config import Config\n",
    "version = 'v6'\n",
    "# gen_name = Config.config[version]['gen_name']\n",
    "gen_name = Config.config_v1[version]['gen_name']\n",
    "data_path = os.path.join(config['p_path'], 'data')\n",
    "\n",
    "k_len = config['k_length']\n",
    "import json\n",
    "with open('./parent_information/parent_v1.json', 'r', encoding='utf-8') as f:\n",
    "    parent_list = json.load(f)\n",
    "\n",
    "num_classes = len(parent_list[-1])\n",
    "epochs = 2\n",
    "batch_size = 256\n",
    "\n",
    "tr_rate = 0.95\n",
    "val_rate = 0.2"
   ]
  },
  {
   "cell_type": "code",
   "execution_count": 53,
   "metadata": {},
   "outputs": [],
   "source": [
    "def load_data_v1():\n",
    "    idx = 0\n",
    "    interval = Config.config_v1[version]['interval']\n",
    "    k_length = Config.config_v1[version]['k-mer']\n",
    "    interval = config['interval']\n",
    "    k_length = config['k_length']\n",
    "    code_list = OrderedDict()\n",
    "    for curname in gen_name:\n",
    "        load_name = curname + '_k' + str(k_length) \\\n",
    "                    + '_i' + str(interval) + '.npy'\n",
    "        load_path = Config.config_v1[version]['data_path']\n",
    "\n",
    "        load_path = '/root/dgh_v1/zjj/dataset/pathogens_v1/test'\n",
    "        \n",
    "\n",
    "        load_path = os.path.join(load_path, load_name)\n",
    "        code = np.load(load_path)\n",
    "        code = shuf_data(code)  # 随机打乱\n",
    "        code_tr = code[:int(code.shape[0] * tr_rate)]  # 训练\n",
    "        code_val = code[int(code.shape[0] * tr_rate):]  # 验证\n",
    "        if idx == 0:\n",
    "            # X_all = code\n",
    "            X_tr = code_tr\n",
    "            X_val = code_val\n",
    "            Y_tr = np.repeat(idx, X_tr.shape[0])\n",
    "            Y_val = np.repeat(idx, X_val.shape[0])\n",
    "        else:\n",
    "            X_tr = np.concatenate((X_tr, code_tr))\n",
    "            X_val = np.concatenate((X_val, code_val))\n",
    "            Y_tr = np.concatenate((Y_tr, np.repeat(idx, code_tr.shape[0])))\n",
    "            Y_val = np.concatenate((Y_val, np.repeat(idx, code_val.shape[0])))\n",
    "\n",
    "        len = code.shape[0]\n",
    "        # code_list[curname] = code\n",
    "        idx = idx + 1\n",
    "        del code\n",
    "        del code_tr\n",
    "        del code_val\n",
    "        print(idx)\n",
    "    return X_tr, Y_tr, X_val, Y_val"
   ]
  },
  {
   "cell_type": "code",
   "execution_count": 54,
   "metadata": {},
   "outputs": [
    {
     "name": "stdout",
     "output_type": "stream",
     "text": [
      "1\n",
      "2\n",
      "3\n",
      "4\n",
      "5\n",
      "6\n",
      "7\n",
      "8\n",
      "9\n",
      "10\n",
      "11\n",
      "12\n",
      "hello\n",
      "(39464, 100, 4)\n",
      "(2084, 100, 4)\n"
     ]
    }
   ],
   "source": [
    "X_tr, Y_tr, X_val, Y_val = load_data_v1()\n",
    "\n",
    "Y_tr = keras.utils.to_categorical(Y_tr, num_classes)\n",
    "Y_val = keras.utils.to_categorical(Y_val, num_classes)\n",
    "\n",
    "print('hello')\n",
    "\n",
    "index = list(range(0, X_val.shape[0]))\n",
    "np.random.shuffle(index)\n",
    "X_val = X_val[index]\n",
    "Y_val = Y_val[index]\n",
    "\n",
    "parent = {\n",
    "    0: 0, 1: 0, 2: 0, 3: 0, 4: 0,\n",
    "    5: 1, 6: 1, 7: 1, 8: 1, 9: 1\n",
    "}\n",
    "# parent_list = [{\"0\": -1, \"1\": -1, \"2\": -1}, {\"0\": 0, \"1\": 1, \"2\": 0, \"3\": 0, \"4\": 1, \"5\": 0, \"6\": 0, \"7\": 0, \"8\": 2, \"9\": 1}]\n",
    "import json\n",
    "with open('./parent_information/parent_v1.json', 'r', encoding='utf-8') as f:\n",
    "    parent_list = json.load(f)\n",
    "parent = parent_list[1]\n",
    "\n",
    "n1 = len(parent_list[0])\n",
    "n2 = len(parent_list[1])\n",
    "\n",
    "p_num = len(parent_list[0])\n",
    "yp_tr = np.zeros((Y_tr.shape[0], p_num)).astype(\"float32\")\n",
    "yp_val = np.zeros((Y_val.shape[0], p_num)).astype(\"float32\")\n",
    "for i in range(yp_tr.shape[0]):\n",
    "    yp_tr[i][parent[str(np.argmax(Y_tr[i]))]] = 1.0\n",
    "for i in range(yp_val.shape[0]):\n",
    "    yp_val[i][parent[str(np.argmax(Y_val[i]))]] = 1.0\n",
    "\n",
    "print(X_tr.shape)\n",
    "print(X_val.shape)"
   ]
  },
  {
   "cell_type": "code",
   "execution_count": 7,
   "metadata": {},
   "outputs": [
    {
     "name": "stdout",
     "output_type": "stream",
     "text": [
      "WARNING:tensorflow:From /root/miniconda3/envs/bcnn/lib/python3.6/site-packages/keras/backend/tensorflow_backend.py:74: The name tf.get_default_graph is deprecated. Please use tf.compat.v1.get_default_graph instead.\n",
      "\n",
      "WARNING:tensorflow:From /root/miniconda3/envs/bcnn/lib/python3.6/site-packages/keras/backend/tensorflow_backend.py:517: The name tf.placeholder is deprecated. Please use tf.compat.v1.placeholder instead.\n",
      "\n",
      "WARNING:tensorflow:From /root/miniconda3/envs/bcnn/lib/python3.6/site-packages/keras/backend/tensorflow_backend.py:4138: The name tf.random_uniform is deprecated. Please use tf.random.uniform instead.\n",
      "\n",
      "WARNING:tensorflow:From /root/miniconda3/envs/bcnn/lib/python3.6/site-packages/keras/backend/tensorflow_backend.py:133: The name tf.placeholder_with_default is deprecated. Please use tf.compat.v1.placeholder_with_default instead.\n",
      "\n",
      "WARNING:tensorflow:From /root/miniconda3/envs/bcnn/lib/python3.6/site-packages/keras/backend/tensorflow_backend.py:3445: calling dropout (from tensorflow.python.ops.nn_ops) with keep_prob is deprecated and will be removed in a future version.\n",
      "Instructions for updating:\n",
      "Please use `rate` instead of `keep_prob`. Rate should be set to `rate = 1 - keep_prob`.\n"
     ]
    },
    {
     "name": "stderr",
     "output_type": "stream",
     "text": [
      "/root/dgh_v1/zjj/Code/Z/model.py:703: UserWarning: Update your `Model` call to the Keras 2 API: `Model(name=\"medium_dynamic\", inputs=Tensor(\"in..., outputs=[<tf.Tenso...)`\n",
      "  model = Model(input=inputs, output=[c2_pred, fine_pred], name='medium_dynamic')\n"
     ]
    },
    {
     "name": "stdout",
     "output_type": "stream",
     "text": [
      "__________________________________________________________________________________________________\n",
      "Layer (type)                    Output Shape         Param #     Connected to                     \n",
      "==================================================================================================\n",
      "input_3 (InputLayer)            (None, 100, 4)       0                                            \n",
      "__________________________________________________________________________________________________\n",
      "conv1d_1 (Conv1D)               (None, 91, 64)       2624        input_3[0][0]                    \n",
      "__________________________________________________________________________________________________\n",
      "batch_normalization_1 (BatchNor (None, 91, 64)       256         conv1d_1[0][0]                   \n",
      "__________________________________________________________________________________________________\n",
      "conv1d_2 (Conv1D)               (None, 82, 128)      82048       batch_normalization_1[0][0]      \n",
      "__________________________________________________________________________________________________\n",
      "batch_normalization_2 (BatchNor (None, 82, 128)      512         conv1d_2[0][0]                   \n",
      "__________________________________________________________________________________________________\n",
      "conv1d_4 (Conv1D)               (None, 73, 256)      327936      batch_normalization_2[0][0]      \n",
      "__________________________________________________________________________________________________\n",
      "batch_normalization_4 (BatchNor (None, 73, 256)      1024        conv1d_4[0][0]                   \n",
      "__________________________________________________________________________________________________\n",
      "conv1d_5 (Conv1D)               (None, 64, 512)      1311232     batch_normalization_4[0][0]      \n",
      "__________________________________________________________________________________________________\n",
      "conv1d_3 (Conv1D)               (None, 73, 256)      327936      batch_normalization_2[0][0]      \n",
      "__________________________________________________________________________________________________\n",
      "batch_normalization_5 (BatchNor (None, 64, 512)      2048        conv1d_5[0][0]                   \n",
      "__________________________________________________________________________________________________\n",
      "batch_normalization_3 (BatchNor (None, 73, 256)      1024        conv1d_3[0][0]                   \n",
      "__________________________________________________________________________________________________\n",
      "global_max_pooling1d_2 (GlobalM (None, 512)          0           batch_normalization_5[0][0]      \n",
      "__________________________________________________________________________________________________\n",
      "global_max_pooling1d_1 (GlobalM (None, 256)          0           batch_normalization_3[0][0]      \n",
      "__________________________________________________________________________________________________\n",
      "f1 (Dense)                      (None, 1024)         525312      global_max_pooling1d_2[0][0]     \n",
      "__________________________________________________________________________________________________\n",
      "c2_f1 (Dense)                   (None, 512)          131584      global_max_pooling1d_1[0][0]     \n",
      "__________________________________________________________________________________________________\n",
      "dropout_3 (Dropout)             (None, 1024)         0           f1[0][0]                         \n",
      "__________________________________________________________________________________________________\n",
      "dropout_1 (Dropout)             (None, 512)          0           c2_f1[0][0]                      \n",
      "__________________________________________________________________________________________________\n",
      "f2 (Dense)                      (None, 1024)         1049600     dropout_3[0][0]                  \n",
      "__________________________________________________________________________________________________\n",
      "c2_f2 (Dense)                   (None, 512)          262656      dropout_1[0][0]                  \n",
      "__________________________________________________________________________________________________\n",
      "batch_normalization_6 (BatchNor (None, 1024)         4096        f2[0][0]                         \n",
      "__________________________________________________________________________________________________\n",
      "dropout_2 (Dropout)             (None, 512)          0           c2_f2[0][0]                      \n",
      "__________________________________________________________________________________________________\n",
      "dropout_4 (Dropout)             (None, 1024)         0           batch_normalization_6[0][0]      \n",
      "__________________________________________________________________________________________________\n",
      "c2_f3 (Dense)                   (None, 5)            2565        dropout_2[0][0]                  \n",
      "__________________________________________________________________________________________________\n",
      "fc (Dense)                      (None, 12)           12300       dropout_4[0][0]                  \n",
      "==================================================================================================\n",
      "Total params: 4,044,753\n",
      "Trainable params: 4,040,273\n",
      "Non-trainable params: 4,480\n",
      "__________________________________________________________________________________________________\n",
      "None\n",
      "WARNING:tensorflow:From /root/miniconda3/envs/bcnn/lib/python3.6/site-packages/keras/backend/tensorflow_backend.py:174: The name tf.get_default_session is deprecated. Please use tf.compat.v1.get_default_session instead.\n",
      "\n",
      "WARNING:tensorflow:From /root/miniconda3/envs/bcnn/lib/python3.6/site-packages/keras/backend/tensorflow_backend.py:181: The name tf.ConfigProto is deprecated. Please use tf.compat.v1.ConfigProto instead.\n",
      "\n",
      "WARNING:tensorflow:From /root/miniconda3/envs/bcnn/lib/python3.6/site-packages/keras/backend/tensorflow_backend.py:186: The name tf.Session is deprecated. Please use tf.compat.v1.Session instead.\n",
      "\n",
      "WARNING:tensorflow:From /root/miniconda3/envs/bcnn/lib/python3.6/site-packages/keras/backend/tensorflow_backend.py:190: The name tf.global_variables is deprecated. Please use tf.compat.v1.global_variables instead.\n",
      "\n",
      "WARNING:tensorflow:From /root/miniconda3/envs/bcnn/lib/python3.6/site-packages/keras/backend/tensorflow_backend.py:199: The name tf.is_variable_initialized is deprecated. Please use tf.compat.v1.is_variable_initialized instead.\n",
      "\n",
      "WARNING:tensorflow:From /root/miniconda3/envs/bcnn/lib/python3.6/site-packages/keras/backend/tensorflow_backend.py:206: The name tf.variables_initializer is deprecated. Please use tf.compat.v1.variables_initializer instead.\n",
      "\n",
      "WARNING:tensorflow:From /root/miniconda3/envs/bcnn/lib/python3.6/site-packages/keras/optimizers.py:790: The name tf.train.Optimizer is deprecated. Please use tf.compat.v1.train.Optimizer instead.\n",
      "\n",
      "WARNING:tensorflow:From /root/miniconda3/envs/bcnn/lib/python3.6/site-packages/keras/backend/tensorflow_backend.py:3295: The name tf.log is deprecated. Please use tf.math.log instead.\n",
      "\n"
     ]
    }
   ],
   "source": [
    "from model import *\n",
    "sgd = optimizers.SGD(lr=0.003, momentum=0.9, nesterov=True)\n",
    "alpha = K.variable(value=0.99, dtype=\"float32\", name=\"alpha\")  # A1 in paper\n",
    "#alpha  = tf.keras.backend.variable(0.99)\n",
    "beta = K.variable(value=0.01, dtype=\"float32\", name=\"beta\")  # A2 in paper\n",
    "#beta = tf.keras.backend.variable(0.01)\n",
    "inputs = Input(shape=(None, 4))  # The input shape doesn’t include the number of samples.\n",
    "# 在使用基于tensorflow的keras中，cov1d的input_shape是二维的\n",
    "\n",
    "# sgd = optimizers.SGD(lr=0.003, momentum=0.9, nesterov=True)\n",
    "#\n",
    "inputs = Input((config['k_length'], 4))\n",
    "model = get_BranchModel7(inputs)\n",
    "print(model.summary())\n",
    "model.load_weights('./weights/config_v1/BranchModel7_v6.hdf5')\n",
    "model.compile(loss='categorical_crossentropy',\n",
    "              optimizer=sgd,\n",
    "              loss_weights=[alpha, beta],\n",
    "              metrics=['accuracy'])\n"
   ]
  },
  {
   "cell_type": "code",
   "execution_count": null,
   "metadata": {},
   "outputs": [],
   "source": []
  },
  {
   "cell_type": "code",
   "execution_count": 60,
   "metadata": {},
   "outputs": [],
   "source": [
    "def predict_classes1(model, X_val):\n",
    "    pred = model.predict(X_val)\n",
    "    pred = np.argmax(pred, axis=-1)\n",
    "    return pred\n",
    "\n",
    "def predict_classes2(model, X_val):\n",
    "    pred = model.predict(X_val)\n",
    "    pred1 = np.argmax(pred[0], axis=-1)\n",
    "    pred2 = np.argmax(pred[1], axis=-1)\n",
    "    return pred1, pred2\n",
    "\n",
    "def plot_confusion_matrix(cm, classes,\n",
    "                          title='Confusion matrix',\n",
    "                          cmap=plt.cm.jet):\n",
    "    cm = cm.astype('float') / cm.sum(axis=1)[:, np.newaxis]\n",
    "    plt.imshow(cm, interpolation='nearest', cmap=cmap)\n",
    "    plt.title(title)\n",
    "    plt.colorbar()\n",
    "    tick_marks = np.arange(len(classes))\n",
    "\n",
    "    plt.xticks(tick_marks, classes)\n",
    "    phylum_name=['Proteobacteria','Firmicutes','Actinobacteria','Tenericutes','Chlamydiae']\n",
    "    species_name=['H.influenzae','S.pneumoniae','S.maltophilia','L.pneumophila','S.aureus','P.aeruginosa','K.pneumoniae','A.baumannii','M.tuberculosis','S.pyogenes','M.pneumoniae','C.pneumoniae']\n",
    "    # plt.yticks(tick_marks, classes)\n",
    "    plt.yticks(tick_marks, phylum_name)\n",
    "    thresh = cm.max() / 2.\n",
    "    for i, j in itertools.product(range(cm.shape[0]), range(cm.shape[1])):\n",
    "        plt.text(j, i, '{:.2f}'.format(cm[i, j]), horizontalalignment=\"center\",\n",
    "                 color=\"white\" if cm[i, j] > thresh else \"black\")\n",
    "\n",
    "    plt.tight_layout()\n",
    "    plt.ylabel('True label')\n",
    "    plt.xlabel('Predicted label')\n",
    "\n",
    "def npsave(conf_mat, ):\n",
    "    np.save('./conf_mat/mat', conf_mat)\n",
    "\n",
    "# 显示混淆矩阵\n",
    "def plot_confuse(model, x_val, y_val):\n",
    "    #predictions = predict_classes1(model, x_val)\n",
    "    pred1, pred2 = predict_classes2(model, x_val)\n",
    "    truelabel = y_val.argmax(axis=-1)   # 将one-hot转化为label\n",
    "    conf_mat = confusion_matrix(y_true=truelabel, y_pred=pred1)\n",
    "    print(np.max(truelabel)+1)\n",
    "    #npsave()\n",
    "    \n",
    "    conf_mat = confusion_matrix(y_true=truelabel, y_pred=pred1)\n",
    "    plt.figure()\n",
    "    plot_confusion_matrix(conf_mat, range(np.max(truelabel)+1), title='coarse label')\n",
    "    plt.savefig(fname='./conf_mat/figure1.svg', format='svg')\n",
    "    return conf_mat"
   ]
  },
  {
   "cell_type": "code",
   "execution_count": 61,
   "metadata": {},
   "outputs": [
    {
     "name": "stdout",
     "output_type": "stream",
     "text": [
      "5\n"
     ]
    },
    {
     "data": {
      "image/png": "[encoded data removed]",
      "text/plain": [
       "<Figure size 432x288 with 2 Axes>"
      ]
     },
     "metadata": {
      "needs_background": "light"
     },
     "output_type": "display_data"
    }
   ],
   "source": [
    "conf_mat = plot_confuse(model, X_val, yp_val)\n"
   ]
  },
  {
   "cell_type": "code",
   "execution_count": 34,
   "metadata": {},
   "outputs": [
    {
     "name": "stdout",
     "output_type": "stream",
     "text": [
      "5\n"
     ]
    },
    {
     "data": {
      "image/png": "[encoded data removed]",
      "text/plain": [
       "<Figure size 432x288 with 2 Axes>"
      ]
     },
     "metadata": {
      "needs_background": "light"
     },
     "output_type": "display_data"
    },
    {
     "data": {
      "image/png": "[encoded data removed]",
      "text/plain": [
       "<Figure size 432x288 with 2 Axes>"
      ]
     },
     "metadata": {
      "needs_background": "light"
     },
     "output_type": "display_data"
    }
   ],
   "source": [
    "def plot_confuse(model, x_val, yp_val, y_val):\n",
    "    #predictions = predict_classes1(model, x_val)\n",
    "    pred1, pred2 = predict_classes2(model, x_val)\n",
    "    truelabel = yp_val.argmax(axis=-1)   # 将one-hot转化为label\n",
    "    conf_mat = confusion_matrix(y_true=truelabel, y_pred=pred1)\n",
    "    print(np.max(truelabel)+1)\n",
    "    #npsave()\n",
    "    plt.figure()\n",
    "    plot_confusion_matrix(conf_mat, range(np.max(truelabel)+1), title='coarse label')\n",
    "    plt.savefig(fname=\"./conf_mat/figure1.svg\",format=\"svg\")\n",
    "    plt.show()\n",
    "    truelabel = y_val.argmax(axis=-1)   # 将one-hot转化为label\n",
    "    conf_mat = confusion_matrix(y_true=truelabel, y_pred=pred2)\n",
    "    \n",
    "    plt.figure()\n",
    "    plot_confusion_matrix(conf_mat, range(np.max(truelabel)+1), title='fine label')\n",
    "    plt.savefig(fname='./conf_mat/figure2.svg', format='svg')\n",
    "    plt.show()\n",
    "    return conf_mat\n",
    "conf_mat = plot_confuse(model, X_val, yp_val, Y_val)"
   ]
  },
  {
   "cell_type": "code",
   "execution_count": 1,
   "metadata": {},
   "outputs": [],
   "source": [
    "# plt.imshow('./conf_mat/figure1.svg')"
   ]
  },
  {
   "cell_type": "code",
   "execution_count": null,
   "metadata": {},
   "outputs": [],
   "source": []
  },
  {
   "cell_type": "code",
   "execution_count": null,
   "metadata": {},
   "outputs": [],
   "source": []
  }
 ],
 "metadata": {
  "interpreter": {
   "hash": "14abc6b3e25fa0faef03b396e9517796ac4ce24a5e455f58c45ce45dc1ee48ea"
  },
  "kernelspec": {
   "display_name": "Python 3.6.13 ('bcnn': conda)",
   "language": "python",
   "name": "python3"
  },
  "language_info": {
   "codemirror_mode": {
    "name": "ipython",
    "version": 3
   },
   "file_extension": ".py",
   "mimetype": "text/x-python",
   "name": "python",
   "nbconvert_exporter": "python",
   "pygments_lexer": "ipython3",
   "version": "3.6.13"
  },
  "orig_nbformat": 4
 },
 "nbformat": 4,
 "nbformat_minor": 2
}
